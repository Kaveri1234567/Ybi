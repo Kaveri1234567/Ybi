{
  "nbformat": 4,
  "nbformat_minor": 0,
  "metadata": {
    "colab": {
      "provenance": [],
      "authorship_tag": "ABX9TyOU/RZIw0FXg6OpiCZM/SiM",
      "include_colab_link": true
    },
    "kernelspec": {
      "name": "python3",
      "display_name": "Python 3"
    },
    "language_info": {
      "name": "python"
    }
  },
  "cells": [
    {
      "cell_type": "markdown",
      "metadata": {
        "id": "view-in-github",
        "colab_type": "text"
      },
      "source": [
        "<a href=\"https://colab.research.google.com/github/Kaveri1234567/Ybi/blob/main/Handwritten_classification.ipynb\" target=\"_parent\"><img src=\"https://colab.research.google.com/assets/colab-badge.svg\" alt=\"Open In Colab\"/></a>"
      ]
    },
    {
      "cell_type": "markdown",
      "source": [
        "**Hand** **Written** **Digit** **Prediction** -**Classification** **Analysis**\n",
        "\n",
        "The digits dataset consists of 8x8 pixel images of digits. The images attribute of the dataset stores 8x8 arrays of grayscale values for each\n",
        "image. We will use these arrays to visualize the first 4 images. The target attribute of the dataset stores the digit each image represents\n"
      ],
      "metadata": {
        "id": "qVqplhrUnScC"
      }
    },
    {
      "cell_type": "code",
      "source": [
        "\n",
        "import pandas as pd\n",
        "import numpy as np\n",
        "import matplotlib.pyplot as plt"
      ],
      "metadata": {
        "id": "IPal1K12oEzF"
      },
      "execution_count": null,
      "outputs": []
    },
    {
      "cell_type": "markdown",
      "source": [
        "**Import** **Data**"
      ],
      "metadata": {
        "id": "5-2qJNpuoaxD"
      }
    },
    {
      "cell_type": "code",
      "source": [
        "from sklearn.datasets import load_digits\n",
        "df=load_digits()\n",
        "_, axes =plt.subplots(nrows=1, ncols=4, figsize=(10,3))\n",
        "for ax, image, label in zip(axes,df.images, df.target):\n",
        "  ax.set_axis_off()\n",
        "  ax.imshow(image,cmap=plt.cm.gray_r, interpolation=\"nearest\")\n",
        "  ax.set_title(\"Training: %i\" % label)"
      ],
      "metadata": {
        "id": "xVrPXUZKofms"
      },
      "execution_count": null,
      "outputs": []
    },
    {
      "cell_type": "markdown",
      "source": [
        "**Data** **Preprocessing**"
      ],
      "metadata": {
        "id": "e3z8t9T4ovFV"
      }
    },
    {
      "cell_type": "code",
      "source": [
        "df.images.shape\n",
        "   (1797, 8, 8)\n",
        "df.images[0]\n",
        "array([[ 0., 0., 5., 13., 9., 1., 0., 0.],\n",
        "       [ 0., 0., 13., 15., 10., 15., 5., 0.],\n",
        "       [ 0., 3., 15., 2., 0., 11., 8., 0.],\n",
        "       [ 0., 4., 12., 0., 0., 8., 8., 0.],\n",
        "       [ 0., 5., 8., 0., 0., 9., 8., 0.],\n",
        "       [ 0., 4., 11., 0., 1., 12., 7., 0.],\n",
        "       [ 0., 2., 14., 5., 10., 12., 0., 0.],\n",
        "       [ 0., 0., 6., 13., 10., 0., 0., 0.]])\n",
        "df.images[0].shape\n",
        "  (8, 8)\n",
        "len(df.images)\n",
        "  1797\n",
        "n_samples=len(df.images)\n",
        "data= df.images.reshape((n_samples,-1))\n",
        "data[0]\n",
        "array([ 0., 0., 5., 13., 9., 1., 0., 0., 0., 0., 13., 15., 10.,\n",
        "  15., 5., 0., 0., 3., 15., 2., 0., 11., 8., 0., 0., 4.,\n",
        "  12., 0., 0., 8., 8., 0., 0., 5., 8., 0., 0., 9., 8.,\n",
        "  0., 0., 4., 11., 0., 1., 12., 7., 0., 0., 2., 14., 5.,\n",
        "  10., 12., 0., 0., 0., 0., 6., 13., 10., 0., 0., 0.])\n",
        "data[0].shape\n",
        " (64,)\n",
        "data.shape\n",
        " (1797, 64)\n"
      ],
      "metadata": {
        "id": "XIFVEdIjo19Y"
      },
      "execution_count": null,
      "outputs": []
    },
    {
      "cell_type": "markdown",
      "source": [
        "**Scalling** **Image** **Data**"
      ],
      "metadata": {
        "id": "YZBFZiykpbxk"
      }
    },
    {
      "cell_type": "code",
      "source": [
        "data.min()\n",
        "  0.0\n",
        "data.max()\n",
        "  16.0\n",
        "data = data/16\n",
        "data.min()\n",
        "  0.0\n",
        "data.max()\n",
        "  1.0\n",
        "data[0]\n",
        "array([0. , 0. , 0.3125, 0.8125, 0.5625, 0.0625, 0. , 0. ,\n",
        "      0. , 0. , 0.8125, 0.9375, 0.625 , 0.9375, 0.3125, 0. ,\n",
        "      0. , 0.1875, 0.9375, 0.125 , 0. , 0.6875, 0.5 , 0. ,\n",
        "      0. , 0.25 , 0.75 , 0. , 0. , 0.5 , 0.5 , 0. ,\n",
        "      0. , 0.3125, 0.5 , 0. , 0. , 0.5625, 0.5 , 0. ,\n",
        "      0. , 0.25 , 0.6875, 0. , 0.0625, 0.75 , 0.4375, 0. ,\n",
        "      0. , 0.125 , 0.875 , 0.3125, 0.625 , 0.75 , 0. , 0. ,\n",
        "      0. , 0. , 0.375 , 0.8125, 0.625 , 0. , 0. , 0. ])\n"
      ],
      "metadata": {
        "id": "Ktz3x3qFpmhw"
      },
      "execution_count": null,
      "outputs": []
    },
    {
      "cell_type": "markdown",
      "source": [
        "**Train_Test_Split_Data**"
      ],
      "metadata": {
        "id": "1atl9l-Rp7x3"
      }
    },
    {
      "cell_type": "code",
      "source": [
        "from sklearn.model_selection import train_test_split\n",
        "X_train, X_test,y_train,y_test = train_test_split(data, df.target, test_size=0.3)\n",
        "X_train.shape, X_test.shape,y_train.shape,y_test.shape\n",
        "  ((1257, 64), (540, 64), (1257,), (540,))\n"
      ],
      "metadata": {
        "id": "8hMdjmqgqFlk"
      },
      "execution_count": null,
      "outputs": []
    },
    {
      "cell_type": "markdown",
      "source": [
        "**Random** **Test Data**"
      ],
      "metadata": {
        "id": "dCujaY6OqSJy"
      }
    },
    {
      "cell_type": "code",
      "source": [
        "from sklearn.ensemble import RandomForestClassifier\n",
        "rf = RandomForestClassifier()\n",
        "rf.fit(X_train, y_train)\n",
        "▾ RandomForestClassifier\n",
        "RandomForestClassifier()"
      ],
      "metadata": {
        "id": "A_9SUYsHqZJi"
      },
      "execution_count": null,
      "outputs": []
    },
    {
      "cell_type": "markdown",
      "source": [
        "**Predict Test Data**"
      ],
      "metadata": {
        "id": "vANvrlxRrBXr"
      }
    },
    {
      "cell_type": "code",
      "source": [
        "y_pred = rf.predict(X_test)\n",
        "y_pred\n",
        "array([4, 8, 8, 9, 2, 7, 9, 4, 9, 2, 0, 3, 0, 7, 7, 9, 8, 6, 0, 0, 0, 5,\n",
        "       8, 7, 2, 8, 9, 1, 1, 8, 9, 4, 9, 4, 4, 9, 4, 9, 7, 3, 6, 4, 3, 7,\n",
        "       2, 4, 0, 1, 9, 2, 4, 1, 2, 5, 7, 3, 3, 4, 8, 0, 3, 8, 9, 0, 7, 4,\n",
        "       3, 1, 0, 9, 8, 9, 2, 3, 8, 1, 3, 6, 1, 5, 1, 7, 5, 2, 7, 8, 6, 0,\n",
        "       4, 9, 0, 3, 0, 3, 9, 7, 2, 9, 7, 1, 1, 5, 9, 3, 5, 2, 1, 5, 4, 7,\n",
        "       9, 7, 5, 3, 2, 1, 3, 7, 0, 8, 6, 9, 8, 5, 9, 5, 5, 1, 3, 0, 4, 7,\n",
        "       7, 1, 1, 8, 1, 1, 1, 0, 4, 9, 7, 5, 6, 0, 3, 2, 1, 5, 2, 1, 8, 3,\n",
        "       7, 4, 1, 4, 4, 5, 7, 8, 6, 9, 4, 3, 1, 8, 2, 9, 8, 2, 1, 5, 2, 0,\n",
        "       5, 1, 1, 1, 4, 5, 2, 4, 7, 4, 6, 3, 0, 8, 8, 7, 1, 9, 6, 4, 4, 9,\n",
        "       2, 1, 7, 5, 3, 6, 0, 7, 0, 9, 4, 3, 5, 3, 0, 7, 3, 6, 0, 5, 4, 4,\n",
        "       3, 3, 7, 8, 2, 5, 8, 5, 2, 1, 6, 5, 9, 2, 3, 1, 6, 5, 4, 9, 3, 7,\n",
        "       8, 4, 6, 0, 5, 3, 0, 1, 4, 6, 1, 9, 4, 2, 9, 6, 6, 4, 2, 7, 4, 9,\n",
        "       3, 9, 0, 9, 2, 9, 5, 2, 5, 2, 7, 2, 4, 7, 7, 3, 1, 6, 1, 3, 6, 6,\n",
        "       6, 0, 8, 4, 9, 2, 2, 2, 5, 4, 1, 7, 1, 6, 4, 2, 8, 6, 7, 5, 9, 2,\n",
        "       9, 5, 6, 0, 2, 5, 3, 8, 9, 5, 0, 2, 8, 1, 3, 5, 7, 0, 7, 5, 6, 7,\n",
        "       2, 3, 0, 3, 3, 8, 8, 3, 8, 2, 0, 8, 6, 5, 4, 4, 9, 3, 5, 8, 7, 4,\n",
        "       9, 2, 1, 7, 1, 2, 6, 9, 7, 1, 0, 9, 8, 6, 9, 5, 3, 3, 2, 4, 8, 0,\n",
        "       0, 2, 7, 2, 0, 6, 9, 7, 2, 4, 8, 3, 5, 6, 2, 2, 2, 0, 7, 5, 3, 7,\n",
        "       2, 2, 4, 8, 2, 3, 6, 2, 9, 1, 7, 2, 5, 7, 3, 5, 3, 0, 6, 7, 0, 6,\n",
        "       8, 2, 8, 6, 7, 8, 6, 3, 6, 5, 8, 3, 9, 2, 0, 5, 6, 0, 2, 2, 2, 3,\n",
        "       8, 7, 1, 9, 9, 5, 6, 6, 5, 4, 0, 9, 0, 6, 4, 9, 2, 4, 8, 3, 4, 0,\n",
        "       2, 2, 9, 5, 0, 4, 8, 2, 3, 0, 2, 5, 6, 0, 0, 7, 3, 2, 6, 6, 1, 7,\n",
        "       7, 1, 6, 8, 1, 1, 6, 9, 0, 1, 2, 5, 3, 3, 0, 7, 6, 6, 3, 7, 8, 9,\n",
        "       2, 9, 5, 5, 9, 0, 7, 3, 3, 9, 0, 4, 7, 3, 2, 5, 7, 7, 4, 5, 2, 5,\n",
        "       2, 4, 5, 6, 8, 2, 4, 8, 4, 0, 1, 4])\n"
      ],
      "metadata": {
        "id": "N2WofLm8rSwM"
      },
      "execution_count": null,
      "outputs": []
    },
    {
      "cell_type": "markdown",
      "source": [
        "**Model Accuracy**"
      ],
      "metadata": {
        "id": "NycisknZrzr_"
      }
    },
    {
      "cell_type": "code",
      "source": [
        "from sklearn.metrics import confusion_matrix , classification_report\n",
        "confusion_matrix(y_test,y_pred)\n",
        "array([[51, 0, 0, 0, 1, 0, 0, 0, 0, 0],\n",
        "       [ 0, 48, 0, 0, 0, 1, 0, 0, 0, 0],\n",
        "       [ 1, 0, 67, 1, 0, 0, 0, 0, 0, 0],\n",
        "       [ 0, 0, 0, 55, 0, 1, 0, 0, 0, 1],\n",
        "       [ 0, 0, 0, 0, 52, 0, 0, 3, 0, 0],\n",
        "       [ 0, 0, 0, 0, 1, 51, 0, 0, 1, 1],\n",
        "       [ 0, 0, 0, 0, 0, 0, 48, 0, 1, 0],\n",
        "       [ 0, 0, 0, 0, 0, 0, 0, 52, 1, 1],\n",
        "       [ 0, 0, 0, 0, 0, 0, 0, 0, 42, 0],\n",
        "       [ 0, 0, 0, 1, 0, 1, 0, 2, 2, 53]])\n",
        "print(classification_report(y_test,y_pred))\n",
        "          precision recall f1-score support\n",
        " 0          0.98     0.98    0.98    52\n",
        " 1          1.00     0.98    0.99    49\n",
        " 2          1.00     0.97    0.99    69\n",
        " 3          0.96     0.96    0.96    57\n",
        " 4          0.96     0.95    0.95    55\n",
        " 5          0.94     0.94    0.94    54\n",
        " 6          1.00     0.98    0.99    49\n",
        " 7          0.91     0.96    0.94    54\n",
        " 8          0.89     1.00    0.94    42\n",
        " 9          0.95     0.90    0.92    59\n",
        " accuracy                    0.96   540\n",
        " macro avg 0.96      0.96    0.96   540\n",
        "weighted avg 0.96    0.96    0.96   540"
      ],
      "metadata": {
        "id": "_PKkESHgr4jO"
      },
      "execution_count": null,
      "outputs": []
    },
    {
      "cell_type": "markdown",
      "source": [],
      "metadata": {
        "id": "IiP6blewoUJv"
      }
    }
  ]
}